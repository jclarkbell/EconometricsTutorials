{
 "cells": [
  {
   "cell_type": "code",
   "execution_count": 2,
   "id": "6de0c0ca",
   "metadata": {},
   "outputs": [],
   "source": [
    "import pandas as pd\n",
    "import statsmodels.api as sm\n",
    "import numpy as np\n",
    "import matplotlib.pyplot as plt"
   ]
  },
  {
   "cell_type": "markdown",
   "id": "aed0ddff",
   "metadata": {},
   "source": [
    "1a"
   ]
  },
  {
   "cell_type": "code",
   "execution_count": 3,
   "id": "dd8c1058",
   "metadata": {},
   "outputs": [],
   "source": [
    "df = pd.read_stata(r\"path\")"
   ]
  },
  {
   "cell_type": "code",
   "execution_count": 4,
   "id": "0cca8b97",
   "metadata": {
    "scrolled": true
   },
   "outputs": [
    {
     "data": {
      "text/html": [
       "<div>\n",
       "<style scoped>\n",
       "    .dataframe tbody tr th:only-of-type {\n",
       "        vertical-align: middle;\n",
       "    }\n",
       "\n",
       "    .dataframe tbody tr th {\n",
       "        vertical-align: top;\n",
       "    }\n",
       "\n",
       "    .dataframe thead th {\n",
       "        text-align: right;\n",
       "    }\n",
       "</style>\n",
       "<table border=\"1\" class=\"dataframe\">\n",
       "  <thead>\n",
       "    <tr style=\"text-align: right;\">\n",
       "      <th></th>\n",
       "      <th>idcode</th>\n",
       "      <th>age</th>\n",
       "      <th>race</th>\n",
       "      <th>married</th>\n",
       "      <th>never_married</th>\n",
       "      <th>grade</th>\n",
       "      <th>collgrad</th>\n",
       "      <th>south</th>\n",
       "      <th>smsa</th>\n",
       "      <th>c_city</th>\n",
       "      <th>industry</th>\n",
       "      <th>occupation</th>\n",
       "      <th>union</th>\n",
       "      <th>wage</th>\n",
       "      <th>hours</th>\n",
       "      <th>ttl_exp</th>\n",
       "      <th>tenure</th>\n",
       "    </tr>\n",
       "  </thead>\n",
       "  <tbody>\n",
       "    <tr>\n",
       "      <th>0</th>\n",
       "      <td>1</td>\n",
       "      <td>37</td>\n",
       "      <td>Black</td>\n",
       "      <td>Single</td>\n",
       "      <td>Has been married</td>\n",
       "      <td>12.0</td>\n",
       "      <td>Not college grad</td>\n",
       "      <td>Not south</td>\n",
       "      <td>SMSA</td>\n",
       "      <td>Not central city</td>\n",
       "      <td>Transport/Comm/Utility</td>\n",
       "      <td>Operatives</td>\n",
       "      <td>Union</td>\n",
       "      <td>11.739130</td>\n",
       "      <td>48.0</td>\n",
       "      <td>10.33333</td>\n",
       "      <td>5.333333</td>\n",
       "    </tr>\n",
       "    <tr>\n",
       "      <th>1</th>\n",
       "      <td>2</td>\n",
       "      <td>37</td>\n",
       "      <td>Black</td>\n",
       "      <td>Single</td>\n",
       "      <td>Has been married</td>\n",
       "      <td>12.0</td>\n",
       "      <td>Not college grad</td>\n",
       "      <td>Not south</td>\n",
       "      <td>SMSA</td>\n",
       "      <td>Central city</td>\n",
       "      <td>Manufacturing</td>\n",
       "      <td>Craftsmen</td>\n",
       "      <td>Union</td>\n",
       "      <td>6.400963</td>\n",
       "      <td>40.0</td>\n",
       "      <td>13.62179</td>\n",
       "      <td>5.250000</td>\n",
       "    </tr>\n",
       "    <tr>\n",
       "      <th>2</th>\n",
       "      <td>3</td>\n",
       "      <td>42</td>\n",
       "      <td>Black</td>\n",
       "      <td>Single</td>\n",
       "      <td>Never married</td>\n",
       "      <td>12.0</td>\n",
       "      <td>Not college grad</td>\n",
       "      <td>Not south</td>\n",
       "      <td>SMSA</td>\n",
       "      <td>Central city</td>\n",
       "      <td>Manufacturing</td>\n",
       "      <td>Sales</td>\n",
       "      <td>NaN</td>\n",
       "      <td>5.016723</td>\n",
       "      <td>40.0</td>\n",
       "      <td>17.73077</td>\n",
       "      <td>1.250000</td>\n",
       "    </tr>\n",
       "    <tr>\n",
       "      <th>3</th>\n",
       "      <td>4</td>\n",
       "      <td>43</td>\n",
       "      <td>White</td>\n",
       "      <td>Married</td>\n",
       "      <td>Has been married</td>\n",
       "      <td>17.0</td>\n",
       "      <td>College grad</td>\n",
       "      <td>Not south</td>\n",
       "      <td>SMSA</td>\n",
       "      <td>Not central city</td>\n",
       "      <td>Professional services</td>\n",
       "      <td>Other</td>\n",
       "      <td>Union</td>\n",
       "      <td>9.033813</td>\n",
       "      <td>42.0</td>\n",
       "      <td>13.21154</td>\n",
       "      <td>1.750000</td>\n",
       "    </tr>\n",
       "    <tr>\n",
       "      <th>4</th>\n",
       "      <td>6</td>\n",
       "      <td>42</td>\n",
       "      <td>White</td>\n",
       "      <td>Married</td>\n",
       "      <td>Has been married</td>\n",
       "      <td>12.0</td>\n",
       "      <td>Not college grad</td>\n",
       "      <td>Not south</td>\n",
       "      <td>SMSA</td>\n",
       "      <td>Not central city</td>\n",
       "      <td>Manufacturing</td>\n",
       "      <td>Operatives</td>\n",
       "      <td>Nonunion</td>\n",
       "      <td>8.083731</td>\n",
       "      <td>48.0</td>\n",
       "      <td>17.82051</td>\n",
       "      <td>17.750000</td>\n",
       "    </tr>\n",
       "  </tbody>\n",
       "</table>\n",
       "</div>"
      ],
      "text/plain": [
       "   idcode  age   race  married     never_married  grade          collgrad  \\\n",
       "0       1   37  Black   Single  Has been married   12.0  Not college grad   \n",
       "1       2   37  Black   Single  Has been married   12.0  Not college grad   \n",
       "2       3   42  Black   Single     Never married   12.0  Not college grad   \n",
       "3       4   43  White  Married  Has been married   17.0      College grad   \n",
       "4       6   42  White  Married  Has been married   12.0  Not college grad   \n",
       "\n",
       "       south  smsa            c_city                industry  occupation  \\\n",
       "0  Not south  SMSA  Not central city  Transport/Comm/Utility  Operatives   \n",
       "1  Not south  SMSA      Central city           Manufacturing   Craftsmen   \n",
       "2  Not south  SMSA      Central city           Manufacturing       Sales   \n",
       "3  Not south  SMSA  Not central city   Professional services       Other   \n",
       "4  Not south  SMSA  Not central city           Manufacturing  Operatives   \n",
       "\n",
       "      union       wage  hours   ttl_exp     tenure  \n",
       "0     Union  11.739130   48.0  10.33333   5.333333  \n",
       "1     Union   6.400963   40.0  13.62179   5.250000  \n",
       "2       NaN   5.016723   40.0  17.73077   1.250000  \n",
       "3     Union   9.033813   42.0  13.21154   1.750000  \n",
       "4  Nonunion   8.083731   48.0  17.82051  17.750000  "
      ]
     },
     "execution_count": 4,
     "metadata": {},
     "output_type": "execute_result"
    }
   ],
   "source": [
    "df.head()"
   ]
  },
  {
   "cell_type": "code",
   "execution_count": 5,
   "id": "f1dc38b9",
   "metadata": {},
   "outputs": [
    {
     "name": "stdout",
     "output_type": "stream",
     "text": [
      "<class 'pandas.core.frame.DataFrame'>\n",
      "RangeIndex: 2246 entries, 0 to 2245\n",
      "Data columns (total 17 columns):\n",
      " #   Column         Non-Null Count  Dtype  \n",
      "---  ------         --------------  -----  \n",
      " 0   idcode         2246 non-null   int64  \n",
      " 1   age            2246 non-null   int64  \n",
      " 2   race           2246 non-null   object \n",
      " 3   married        2246 non-null   object \n",
      " 4   never_married  2246 non-null   object \n",
      " 5   grade          2244 non-null   float64\n",
      " 6   collgrad       2246 non-null   object \n",
      " 7   south          2246 non-null   object \n",
      " 8   smsa           2246 non-null   object \n",
      " 9   c_city         2246 non-null   object \n",
      " 10  industry       2232 non-null   object \n",
      " 11  occupation     2237 non-null   object \n",
      " 12  union          1878 non-null   object \n",
      " 13  wage           2246 non-null   float64\n",
      " 14  hours          2242 non-null   float64\n",
      " 15  ttl_exp        2246 non-null   float64\n",
      " 16  tenure         2231 non-null   float64\n",
      "dtypes: float64(5), int64(2), object(10)\n",
      "memory usage: 298.4+ KB\n"
     ]
    }
   ],
   "source": [
    "df.info()"
   ]
  },
  {
   "cell_type": "code",
   "execution_count": 6,
   "id": "1d019aea",
   "metadata": {},
   "outputs": [
    {
     "data": {
      "text/html": [
       "<div>\n",
       "<style scoped>\n",
       "    .dataframe tbody tr th:only-of-type {\n",
       "        vertical-align: middle;\n",
       "    }\n",
       "\n",
       "    .dataframe tbody tr th {\n",
       "        vertical-align: top;\n",
       "    }\n",
       "\n",
       "    .dataframe thead th {\n",
       "        text-align: right;\n",
       "    }\n",
       "</style>\n",
       "<table border=\"1\" class=\"dataframe\">\n",
       "  <thead>\n",
       "    <tr style=\"text-align: right;\">\n",
       "      <th></th>\n",
       "      <th>idcode</th>\n",
       "      <th>age</th>\n",
       "      <th>grade</th>\n",
       "      <th>wage</th>\n",
       "      <th>hours</th>\n",
       "      <th>ttl_exp</th>\n",
       "      <th>tenure</th>\n",
       "    </tr>\n",
       "  </thead>\n",
       "  <tbody>\n",
       "    <tr>\n",
       "      <th>count</th>\n",
       "      <td>2246.000000</td>\n",
       "      <td>2246.000000</td>\n",
       "      <td>2244.000000</td>\n",
       "      <td>2246.000000</td>\n",
       "      <td>2242.000000</td>\n",
       "      <td>2246.000000</td>\n",
       "      <td>2231.000000</td>\n",
       "    </tr>\n",
       "    <tr>\n",
       "      <th>mean</th>\n",
       "      <td>2612.654497</td>\n",
       "      <td>39.153161</td>\n",
       "      <td>13.098930</td>\n",
       "      <td>7.766949</td>\n",
       "      <td>37.218109</td>\n",
       "      <td>12.534977</td>\n",
       "      <td>5.977850</td>\n",
       "    </tr>\n",
       "    <tr>\n",
       "      <th>std</th>\n",
       "      <td>1480.863763</td>\n",
       "      <td>3.060002</td>\n",
       "      <td>2.521246</td>\n",
       "      <td>5.755523</td>\n",
       "      <td>10.509135</td>\n",
       "      <td>4.610208</td>\n",
       "      <td>5.510331</td>\n",
       "    </tr>\n",
       "    <tr>\n",
       "      <th>min</th>\n",
       "      <td>1.000000</td>\n",
       "      <td>34.000000</td>\n",
       "      <td>0.000000</td>\n",
       "      <td>1.004952</td>\n",
       "      <td>1.000000</td>\n",
       "      <td>0.115385</td>\n",
       "      <td>0.000000</td>\n",
       "    </tr>\n",
       "    <tr>\n",
       "      <th>25%</th>\n",
       "      <td>1366.250000</td>\n",
       "      <td>36.000000</td>\n",
       "      <td>12.000000</td>\n",
       "      <td>4.261271</td>\n",
       "      <td>35.000000</td>\n",
       "      <td>9.213141</td>\n",
       "      <td>1.583333</td>\n",
       "    </tr>\n",
       "    <tr>\n",
       "      <th>50%</th>\n",
       "      <td>2614.000000</td>\n",
       "      <td>39.000000</td>\n",
       "      <td>12.000000</td>\n",
       "      <td>6.272271</td>\n",
       "      <td>40.000000</td>\n",
       "      <td>13.125005</td>\n",
       "      <td>3.833333</td>\n",
       "    </tr>\n",
       "    <tr>\n",
       "      <th>75%</th>\n",
       "      <td>3902.250000</td>\n",
       "      <td>42.000000</td>\n",
       "      <td>15.000000</td>\n",
       "      <td>9.593397</td>\n",
       "      <td>40.000000</td>\n",
       "      <td>15.979167</td>\n",
       "      <td>9.333333</td>\n",
       "    </tr>\n",
       "    <tr>\n",
       "      <th>max</th>\n",
       "      <td>5159.000000</td>\n",
       "      <td>46.000000</td>\n",
       "      <td>18.000000</td>\n",
       "      <td>40.746590</td>\n",
       "      <td>80.000000</td>\n",
       "      <td>28.884610</td>\n",
       "      <td>25.916670</td>\n",
       "    </tr>\n",
       "  </tbody>\n",
       "</table>\n",
       "</div>"
      ],
      "text/plain": [
       "            idcode          age        grade         wage        hours  \\\n",
       "count  2246.000000  2246.000000  2244.000000  2246.000000  2242.000000   \n",
       "mean   2612.654497    39.153161    13.098930     7.766949    37.218109   \n",
       "std    1480.863763     3.060002     2.521246     5.755523    10.509135   \n",
       "min       1.000000    34.000000     0.000000     1.004952     1.000000   \n",
       "25%    1366.250000    36.000000    12.000000     4.261271    35.000000   \n",
       "50%    2614.000000    39.000000    12.000000     6.272271    40.000000   \n",
       "75%    3902.250000    42.000000    15.000000     9.593397    40.000000   \n",
       "max    5159.000000    46.000000    18.000000    40.746590    80.000000   \n",
       "\n",
       "           ttl_exp       tenure  \n",
       "count  2246.000000  2231.000000  \n",
       "mean     12.534977     5.977850  \n",
       "std       4.610208     5.510331  \n",
       "min       0.115385     0.000000  \n",
       "25%       9.213141     1.583333  \n",
       "50%      13.125005     3.833333  \n",
       "75%      15.979167     9.333333  \n",
       "max      28.884610    25.916670  "
      ]
     },
     "execution_count": 6,
     "metadata": {},
     "output_type": "execute_result"
    }
   ],
   "source": [
    "df.describe()"
   ]
  },
  {
   "cell_type": "code",
   "execution_count": 7,
   "id": "946c36e3",
   "metadata": {},
   "outputs": [
    {
     "data": {
      "text/plain": [
       "grade           2\n",
       "industry       14\n",
       "occupation      9\n",
       "union         368\n",
       "hours           4\n",
       "tenure         15\n",
       "dtype: int64"
      ]
     },
     "execution_count": 7,
     "metadata": {},
     "output_type": "execute_result"
    }
   ],
   "source": [
    "null_columns=df.columns[df.isnull().any()]\n",
    "df[null_columns].isnull().sum()"
   ]
  },
  {
   "cell_type": "markdown",
   "id": "ee2e59d5",
   "metadata": {},
   "source": [
    "1b"
   ]
  },
  {
   "cell_type": "code",
   "execution_count": 8,
   "id": "9022eda8",
   "metadata": {},
   "outputs": [],
   "source": [
    "# df = df.query(\"grade!=0\")\n",
    "df = df.dropna(subset = ['grade'])"
   ]
  },
  {
   "cell_type": "code",
   "execution_count": 9,
   "id": "5228a561",
   "metadata": {},
   "outputs": [
    {
     "name": "stdout",
     "output_type": "stream",
     "text": [
      "<class 'pandas.core.frame.DataFrame'>\n",
      "Int64Index: 2244 entries, 0 to 2245\n",
      "Data columns (total 17 columns):\n",
      " #   Column         Non-Null Count  Dtype  \n",
      "---  ------         --------------  -----  \n",
      " 0   idcode         2244 non-null   int64  \n",
      " 1   age            2244 non-null   int64  \n",
      " 2   race           2244 non-null   object \n",
      " 3   married        2244 non-null   object \n",
      " 4   never_married  2244 non-null   object \n",
      " 5   grade          2244 non-null   float64\n",
      " 6   collgrad       2244 non-null   object \n",
      " 7   south          2244 non-null   object \n",
      " 8   smsa           2244 non-null   object \n",
      " 9   c_city         2244 non-null   object \n",
      " 10  industry       2230 non-null   object \n",
      " 11  occupation     2235 non-null   object \n",
      " 12  union          1876 non-null   object \n",
      " 13  wage           2244 non-null   float64\n",
      " 14  hours          2240 non-null   float64\n",
      " 15  ttl_exp        2244 non-null   float64\n",
      " 16  tenure         2229 non-null   float64\n",
      "dtypes: float64(5), int64(2), object(10)\n",
      "memory usage: 315.6+ KB\n"
     ]
    }
   ],
   "source": [
    "df.info()"
   ]
  },
  {
   "cell_type": "code",
   "execution_count": 10,
   "id": "1d3578fb",
   "metadata": {},
   "outputs": [
    {
     "data": {
      "text/plain": [
       "industry       14\n",
       "occupation      9\n",
       "union         368\n",
       "hours           4\n",
       "tenure         15\n",
       "dtype: int64"
      ]
     },
     "execution_count": 10,
     "metadata": {},
     "output_type": "execute_result"
    }
   ],
   "source": [
    "null_columns=df.columns[df.isnull().any()]\n",
    "df[null_columns].isnull().sum()"
   ]
  },
  {
   "cell_type": "markdown",
   "id": "a1297121",
   "metadata": {},
   "source": [
    "1c"
   ]
  },
  {
   "cell_type": "code",
   "execution_count": 11,
   "id": "80b0b0d0",
   "metadata": {},
   "outputs": [
    {
     "data": {
      "text/plain": [
       "35    260\n",
       "36    257\n",
       "39    234\n",
       "37    224\n",
       "41    221\n",
       "38    219\n",
       "40    208\n",
       "43    165\n",
       "44    163\n",
       "42    160\n",
       "45     78\n",
       "34     53\n",
       "46      2\n",
       "Name: age, dtype: int64"
      ]
     },
     "execution_count": 11,
     "metadata": {},
     "output_type": "execute_result"
    }
   ],
   "source": [
    "df['age'].value_counts()"
   ]
  },
  {
   "cell_type": "markdown",
   "id": "b55b1ba4",
   "metadata": {},
   "source": [
    "1d"
   ]
  },
  {
   "cell_type": "code",
   "execution_count": 12,
   "id": "9dbccc89",
   "metadata": {},
   "outputs": [
    {
     "data": {
      "text/html": [
       "<div>\n",
       "<style scoped>\n",
       "    .dataframe tbody tr th:only-of-type {\n",
       "        vertical-align: middle;\n",
       "    }\n",
       "\n",
       "    .dataframe tbody tr th {\n",
       "        vertical-align: top;\n",
       "    }\n",
       "\n",
       "    .dataframe thead th {\n",
       "        text-align: right;\n",
       "    }\n",
       "</style>\n",
       "<table border=\"1\" class=\"dataframe\">\n",
       "  <thead>\n",
       "    <tr style=\"text-align: right;\">\n",
       "      <th></th>\n",
       "      <th>age</th>\n",
       "      <th>wage</th>\n",
       "    </tr>\n",
       "  </thead>\n",
       "  <tbody>\n",
       "    <tr>\n",
       "      <th>0</th>\n",
       "      <td>34</td>\n",
       "      <td>6.815027</td>\n",
       "    </tr>\n",
       "    <tr>\n",
       "      <th>1</th>\n",
       "      <td>35</td>\n",
       "      <td>8.048292</td>\n",
       "    </tr>\n",
       "    <tr>\n",
       "      <th>2</th>\n",
       "      <td>36</td>\n",
       "      <td>8.136586</td>\n",
       "    </tr>\n",
       "    <tr>\n",
       "      <th>3</th>\n",
       "      <td>37</td>\n",
       "      <td>7.887929</td>\n",
       "    </tr>\n",
       "    <tr>\n",
       "      <th>4</th>\n",
       "      <td>38</td>\n",
       "      <td>8.115071</td>\n",
       "    </tr>\n",
       "    <tr>\n",
       "      <th>5</th>\n",
       "      <td>39</td>\n",
       "      <td>7.990340</td>\n",
       "    </tr>\n",
       "    <tr>\n",
       "      <th>6</th>\n",
       "      <td>40</td>\n",
       "      <td>7.680887</td>\n",
       "    </tr>\n",
       "    <tr>\n",
       "      <th>7</th>\n",
       "      <td>41</td>\n",
       "      <td>7.537489</td>\n",
       "    </tr>\n",
       "    <tr>\n",
       "      <th>8</th>\n",
       "      <td>42</td>\n",
       "      <td>7.333253</td>\n",
       "    </tr>\n",
       "    <tr>\n",
       "      <th>9</th>\n",
       "      <td>43</td>\n",
       "      <td>7.675594</td>\n",
       "    </tr>\n",
       "    <tr>\n",
       "      <th>10</th>\n",
       "      <td>44</td>\n",
       "      <td>7.169666</td>\n",
       "    </tr>\n",
       "    <tr>\n",
       "      <th>11</th>\n",
       "      <td>45</td>\n",
       "      <td>7.306658</td>\n",
       "    </tr>\n",
       "    <tr>\n",
       "      <th>12</th>\n",
       "      <td>46</td>\n",
       "      <td>16.453295</td>\n",
       "    </tr>\n",
       "  </tbody>\n",
       "</table>\n",
       "</div>"
      ],
      "text/plain": [
       "    age       wage\n",
       "0    34   6.815027\n",
       "1    35   8.048292\n",
       "2    36   8.136586\n",
       "3    37   7.887929\n",
       "4    38   8.115071\n",
       "5    39   7.990340\n",
       "6    40   7.680887\n",
       "7    41   7.537489\n",
       "8    42   7.333253\n",
       "9    43   7.675594\n",
       "10   44   7.169666\n",
       "11   45   7.306658\n",
       "12   46  16.453295"
      ]
     },
     "execution_count": 12,
     "metadata": {},
     "output_type": "execute_result"
    }
   ],
   "source": [
    "df.groupby('age', as_index=False)['wage'].mean()"
   ]
  },
  {
   "cell_type": "markdown",
   "id": "5bff8322",
   "metadata": {},
   "source": [
    "1e"
   ]
  },
  {
   "cell_type": "code",
   "execution_count": 13,
   "id": "007d6537",
   "metadata": {},
   "outputs": [
    {
     "name": "stdout",
     "output_type": "stream",
     "text": [
      "                            OLS Regression Results                            \n",
      "==============================================================================\n",
      "Dep. Variable:                   wage   R-squared:                       0.001\n",
      "Model:                            OLS   Adj. R-squared:                  0.001\n",
      "Method:                 Least Squares   F-statistic:                     2.917\n",
      "Date:                Sat, 16 Oct 2021   Prob (F-statistic):             0.0878\n",
      "Time:                        07:41:45   Log-Likelihood:                -7110.3\n",
      "No. Observations:                2244   AIC:                         1.422e+04\n",
      "Df Residuals:                    2242   BIC:                         1.424e+04\n",
      "Df Model:                           1                                         \n",
      "Covariance Type:            nonrobust                                         \n",
      "==============================================================================\n",
      "                 coef    std err          t      P>|t|      [0.025      0.975]\n",
      "------------------------------------------------------------------------------\n",
      "const         10.4237      1.559      6.685      0.000       7.366      13.481\n",
      "age           -0.0678      0.040     -1.708      0.088      -0.146       0.010\n",
      "==============================================================================\n",
      "Omnibus:                     1505.855   Durbin-Watson:                   1.929\n",
      "Prob(Omnibus):                  0.000   Jarque-Bera (JB):            18740.069\n",
      "Skew:                           3.081   Prob(JB):                         0.00\n",
      "Kurtosis:                      15.746   Cond. No.                         504.\n",
      "==============================================================================\n",
      "\n",
      "Notes:\n",
      "[1] Standard Errors assume that the covariance matrix of the errors is correctly specified.\n"
     ]
    }
   ],
   "source": [
    "x = df['age']\n",
    "y = df['wage']\n",
    "x = sm.add_constant(x)\n",
    "model = sm.OLS(y, x)\n",
    "\n",
    "\n",
    "results = model.fit()\n",
    "\n",
    "print(results.summary())"
   ]
  },
  {
   "cell_type": "code",
   "execution_count": 14,
   "id": "1d71ccbe",
   "metadata": {},
   "outputs": [],
   "source": [
    "df['lnWage'] = np.log(df['wage']) #standard is natural, for log() = np.log10"
   ]
  },
  {
   "cell_type": "code",
   "execution_count": 53,
   "id": "0b4b1a25",
   "metadata": {},
   "outputs": [
    {
     "data": {
      "text/plain": [
       "0    2.462928\n",
       "1    1.856448\n",
       "2    1.612777\n",
       "3    2.200975\n",
       "4    2.089854\n",
       "Name: lnWage, dtype: float64"
      ]
     },
     "execution_count": 53,
     "metadata": {},
     "output_type": "execute_result"
    }
   ],
   "source": [
    "df['lnWage'].head()"
   ]
  },
  {
   "cell_type": "code",
   "execution_count": 16,
   "id": "483adbd5",
   "metadata": {
    "scrolled": false
   },
   "outputs": [
    {
     "name": "stdout",
     "output_type": "stream",
     "text": [
      "                            OLS Regression Results                            \n",
      "==============================================================================\n",
      "Dep. Variable:                 lnWage   R-squared:                       0.000\n",
      "Model:                            OLS   Adj. R-squared:                  0.000\n",
      "Method:                 Least Squares   F-statistic:                     1.091\n",
      "Date:                Sat, 16 Oct 2021   Prob (F-statistic):              0.296\n",
      "Time:                        07:41:48   Log-Likelihood:                -1940.3\n",
      "No. Observations:                2244   AIC:                             3885.\n",
      "Df Residuals:                    2242   BIC:                             3896.\n",
      "Df Model:                           1                                         \n",
      "Covariance Type:            nonrobust                                         \n",
      "==============================================================================\n",
      "                 coef    std err          t      P>|t|      [0.025      0.975]\n",
      "------------------------------------------------------------------------------\n",
      "const          2.0309      0.156     13.043      0.000       1.726       2.336\n",
      "age           -0.0041      0.004     -1.044      0.296      -0.012       0.004\n",
      "==============================================================================\n",
      "Omnibus:                       82.499   Durbin-Watson:                   1.781\n",
      "Prob(Omnibus):                  0.000   Jarque-Bera (JB):               97.585\n",
      "Skew:                           0.428   Prob(JB):                     6.45e-22\n",
      "Kurtosis:                       3.557   Cond. No.                         504.\n",
      "==============================================================================\n",
      "\n",
      "Notes:\n",
      "[1] Standard Errors assume that the covariance matrix of the errors is correctly specified.\n"
     ]
    }
   ],
   "source": [
    "x = df['age']\n",
    "y = df['lnWage']\n",
    "x = sm.add_constant(x)\n",
    "\n",
    "model = sm.OLS(y, x)\n",
    "\n",
    "results = model.fit()\n",
    "\n",
    "print(results.summary())\n"
   ]
  },
  {
   "cell_type": "markdown",
   "id": "765ad0da",
   "metadata": {},
   "source": [
    "as age increases by 1 wage increases by e^-0.0040 # if log dependent variable then can be interpretted as percentage as age increases by 1 wage decreases by 0.4%"
   ]
  },
  {
   "cell_type": "code",
   "execution_count": 17,
   "id": "d565baec",
   "metadata": {},
   "outputs": [],
   "source": [
    "mean = df.groupby('age', as_index=False)['lnWage'].mean()"
   ]
  },
  {
   "cell_type": "code",
   "execution_count": 18,
   "id": "15c20b19",
   "metadata": {},
   "outputs": [],
   "source": [
    "mean = mean.rename(columns={'lnWage':'averagelnWage'})\n",
    "mean = mean.set_index(['age'])"
   ]
  },
  {
   "cell_type": "code",
   "execution_count": 19,
   "id": "6691c6ec",
   "metadata": {},
   "outputs": [
    {
     "data": {
      "text/html": [
       "<div>\n",
       "<style scoped>\n",
       "    .dataframe tbody tr th:only-of-type {\n",
       "        vertical-align: middle;\n",
       "    }\n",
       "\n",
       "    .dataframe tbody tr th {\n",
       "        vertical-align: top;\n",
       "    }\n",
       "\n",
       "    .dataframe thead th {\n",
       "        text-align: right;\n",
       "    }\n",
       "</style>\n",
       "<table border=\"1\" class=\"dataframe\">\n",
       "  <thead>\n",
       "    <tr style=\"text-align: right;\">\n",
       "      <th></th>\n",
       "      <th>averagelnWage</th>\n",
       "    </tr>\n",
       "    <tr>\n",
       "      <th>age</th>\n",
       "      <th></th>\n",
       "    </tr>\n",
       "  </thead>\n",
       "  <tbody>\n",
       "    <tr>\n",
       "      <th>34</th>\n",
       "      <td>1.735862</td>\n",
       "    </tr>\n",
       "    <tr>\n",
       "      <th>35</th>\n",
       "      <td>1.890663</td>\n",
       "    </tr>\n",
       "    <tr>\n",
       "      <th>36</th>\n",
       "      <td>1.866748</td>\n",
       "    </tr>\n",
       "    <tr>\n",
       "      <th>37</th>\n",
       "      <td>1.887804</td>\n",
       "    </tr>\n",
       "    <tr>\n",
       "      <th>38</th>\n",
       "      <td>1.902872</td>\n",
       "    </tr>\n",
       "    <tr>\n",
       "      <th>39</th>\n",
       "      <td>1.913870</td>\n",
       "    </tr>\n",
       "    <tr>\n",
       "      <th>40</th>\n",
       "      <td>1.879741</td>\n",
       "    </tr>\n",
       "    <tr>\n",
       "      <th>41</th>\n",
       "      <td>1.875715</td>\n",
       "    </tr>\n",
       "    <tr>\n",
       "      <th>42</th>\n",
       "      <td>1.799196</td>\n",
       "    </tr>\n",
       "    <tr>\n",
       "      <th>43</th>\n",
       "      <td>1.844454</td>\n",
       "    </tr>\n",
       "    <tr>\n",
       "      <th>44</th>\n",
       "      <td>1.799571</td>\n",
       "    </tr>\n",
       "    <tr>\n",
       "      <th>45</th>\n",
       "      <td>1.874450</td>\n",
       "    </tr>\n",
       "    <tr>\n",
       "      <th>46</th>\n",
       "      <td>2.784718</td>\n",
       "    </tr>\n",
       "  </tbody>\n",
       "</table>\n",
       "</div>"
      ],
      "text/plain": [
       "     averagelnWage\n",
       "age               \n",
       "34        1.735862\n",
       "35        1.890663\n",
       "36        1.866748\n",
       "37        1.887804\n",
       "38        1.902872\n",
       "39        1.913870\n",
       "40        1.879741\n",
       "41        1.875715\n",
       "42        1.799196\n",
       "43        1.844454\n",
       "44        1.799571\n",
       "45        1.874450\n",
       "46        2.784718"
      ]
     },
     "execution_count": 19,
     "metadata": {},
     "output_type": "execute_result"
    }
   ],
   "source": [
    "mean"
   ]
  },
  {
   "cell_type": "code",
   "execution_count": 20,
   "id": "38cdd5fe",
   "metadata": {},
   "outputs": [],
   "source": [
    "df['avglnWage'] = 0"
   ]
  },
  {
   "cell_type": "code",
   "execution_count": 21,
   "id": "54435cfd",
   "metadata": {},
   "outputs": [],
   "source": [
    "df['avglnWage'] = df['age'].map(mean['averagelnWage'])"
   ]
  },
  {
   "cell_type": "code",
   "execution_count": 54,
   "id": "3d82afad",
   "metadata": {
    "scrolled": true
   },
   "outputs": [
    {
     "data": {
      "text/html": [
       "<div>\n",
       "<style scoped>\n",
       "    .dataframe tbody tr th:only-of-type {\n",
       "        vertical-align: middle;\n",
       "    }\n",
       "\n",
       "    .dataframe tbody tr th {\n",
       "        vertical-align: top;\n",
       "    }\n",
       "\n",
       "    .dataframe thead th {\n",
       "        text-align: right;\n",
       "    }\n",
       "</style>\n",
       "<table border=\"1\" class=\"dataframe\">\n",
       "  <thead>\n",
       "    <tr style=\"text-align: right;\">\n",
       "      <th></th>\n",
       "      <th>age</th>\n",
       "      <th>avglnWage</th>\n",
       "    </tr>\n",
       "  </thead>\n",
       "  <tbody>\n",
       "    <tr>\n",
       "      <th>0</th>\n",
       "      <td>37</td>\n",
       "      <td>1.887804</td>\n",
       "    </tr>\n",
       "    <tr>\n",
       "      <th>1</th>\n",
       "      <td>37</td>\n",
       "      <td>1.887804</td>\n",
       "    </tr>\n",
       "    <tr>\n",
       "      <th>2</th>\n",
       "      <td>42</td>\n",
       "      <td>1.799196</td>\n",
       "    </tr>\n",
       "    <tr>\n",
       "      <th>3</th>\n",
       "      <td>43</td>\n",
       "      <td>1.844454</td>\n",
       "    </tr>\n",
       "    <tr>\n",
       "      <th>4</th>\n",
       "      <td>42</td>\n",
       "      <td>1.799196</td>\n",
       "    </tr>\n",
       "  </tbody>\n",
       "</table>\n",
       "</div>"
      ],
      "text/plain": [
       "   age  avglnWage\n",
       "0   37   1.887804\n",
       "1   37   1.887804\n",
       "2   42   1.799196\n",
       "3   43   1.844454\n",
       "4   42   1.799196"
      ]
     },
     "execution_count": 54,
     "metadata": {},
     "output_type": "execute_result"
    }
   ],
   "source": [
    "df[['age','avglnWage']].head()"
   ]
  },
  {
   "cell_type": "markdown",
   "id": "5104c519",
   "metadata": {},
   "source": [
    "1h"
   ]
  },
  {
   "cell_type": "code",
   "execution_count": 23,
   "id": "3979359a",
   "metadata": {},
   "outputs": [],
   "source": [
    "df['lnWage_pred'] = results.predict(x)\n",
    "df['residualerror'] = df['lnWage'] - df['lnWage_pred']"
   ]
  },
  {
   "cell_type": "code",
   "execution_count": 25,
   "id": "96f14a6c",
   "metadata": {
    "scrolled": true
   },
   "outputs": [
    {
     "name": "stdout",
     "output_type": "stream",
     "text": [
      "    age  lnWage_pred\n",
      "0    34     1.890144\n",
      "1    35     1.886003\n",
      "2    36     1.881863\n",
      "3    37     1.877722\n",
      "4    38     1.873582\n",
      "5    39     1.869441\n",
      "6    40     1.865301\n",
      "7    41     1.861160\n",
      "8    42     1.857020\n",
      "9    43     1.852879\n",
      "10   44     1.848739\n",
      "11   45     1.844599\n",
      "12   46     1.840458\n",
      "     averagelnWage\n",
      "age               \n",
      "34        1.735862\n",
      "35        1.890663\n",
      "36        1.866748\n",
      "37        1.887804\n",
      "38        1.902872\n",
      "39        1.913870\n",
      "40        1.879741\n",
      "41        1.875715\n",
      "42        1.799196\n",
      "43        1.844454\n",
      "44        1.799571\n",
      "45        1.874450\n",
      "46        2.784718\n"
     ]
    }
   ],
   "source": [
    "mean_pred = df.groupby('age', as_index=False)['lnWage_pred'].mean()\n",
    "print(mean_pred)\n",
    "print(mean)"
   ]
  },
  {
   "cell_type": "code",
   "execution_count": 26,
   "id": "43c6ceb2",
   "metadata": {},
   "outputs": [
    {
     "name": "stdout",
     "output_type": "stream",
     "text": [
      "1.868806617979988\n",
      "1.8688066179799891\n"
     ]
    }
   ],
   "source": [
    "print(df['lnWage'].mean())\n",
    "print(df['lnWage_pred'].mean())"
   ]
  },
  {
   "cell_type": "code",
   "execution_count": 27,
   "id": "ca813779",
   "metadata": {},
   "outputs": [
    {
     "data": {
      "text/plain": [
       "9.993986228800429e-16"
      ]
     },
     "execution_count": 27,
     "metadata": {},
     "output_type": "execute_result"
    }
   ],
   "source": [
    "df['residualerror'].mean()"
   ]
  },
  {
   "cell_type": "code",
   "execution_count": 28,
   "id": "b1142bef",
   "metadata": {},
   "outputs": [
    {
     "data": {
      "text/plain": [
       "<matplotlib.collections.PathCollection at 0x13491360b20>"
      ]
     },
     "execution_count": 28,
     "metadata": {},
     "output_type": "execute_result"
    },
    {
     "data": {
      "image/png": "[encoded data removed]",
      "text/plain": [
       "<Figure size 432x288 with 1 Axes>"
      ]
     },
     "metadata": {
      "needs_background": "light"
     },
     "output_type": "display_data"
    }
   ],
   "source": [
    "plt.scatter(df['age'], df['lnWage'])"
   ]
  },
  {
   "cell_type": "code",
   "execution_count": 29,
   "id": "d418f54c",
   "metadata": {},
   "outputs": [
    {
     "data": {
      "text/plain": [
       "[<matplotlib.lines.Line2D at 0x134920363d0>]"
      ]
     },
     "execution_count": 29,
     "metadata": {},
     "output_type": "execute_result"
    },
    {
     "data": {
      "image/png": "[encoded data removed]",
      "text/plain": [
       "<Figure size 432x288 with 1 Axes>"
      ]
     },
     "metadata": {
      "needs_background": "light"
     },
     "output_type": "display_data"
    }
   ],
   "source": [
    "plt.plot(mean.index, mean['averagelnWage']) #age on averagelnwage"
   ]
  },
  {
   "cell_type": "code",
   "execution_count": 30,
   "id": "2c3acfb3",
   "metadata": {},
   "outputs": [
    {
     "data": {
      "text/plain": [
       "[<matplotlib.lines.Line2D at 0x134922c2940>]"
      ]
     },
     "execution_count": 30,
     "metadata": {},
     "output_type": "execute_result"
    },
    {
     "data": {
      "image/png": "[encoded data removed]",
      "text/plain": [
       "<Figure size 432x288 with 1 Axes>"
      ]
     },
     "metadata": {
      "needs_background": "light"
     },
     "output_type": "display_data"
    }
   ],
   "source": [
    "plt.plot(mean_pred['age'],mean_pred['lnWage_pred']) #overlay all three"
   ]
  },
  {
   "cell_type": "code",
   "execution_count": 51,
   "id": "e9d5b823",
   "metadata": {},
   "outputs": [
    {
     "data": {
      "image/png": "[encoded data removed]",
      "text/plain": [
       "<Figure size 720x432 with 1 Axes>"
      ]
     },
     "metadata": {
      "needs_background": "light"
     },
     "output_type": "display_data"
    }
   ],
   "source": [
    "fig, ax = plt.subplots(figsize=(10,6))\n",
    "\n",
    "ax.plot(mean_pred['age'],mean_pred['lnWage_pred'], label='Predicted Data',c='red')\n",
    "ax.plot(mean.index, mean['averagelnWage'], label='Actual Data',c='green',lw=2)\n",
    "ax.scatter(df['age'], df['lnWage'], label='All Results', s=2)\n",
    "ax.set_xlabel('Age')\n",
    "ax.set_ylabel('Natural Logarithmic Wage')\n",
    "ax.legend()\n",
    "plt.show()"
   ]
  },
  {
   "cell_type": "code",
   "execution_count": null,
   "id": "3172c7f0",
   "metadata": {},
   "outputs": [],
   "source": []
  }
 ],
 "metadata": {
  "kernelspec": {
   "display_name": "Python 3",
   "language": "python",
   "name": "python3"
  },
  "language_info": {
   "codemirror_mode": {
    "name": "ipython",
    "version": 3
   },
   "file_extension": ".py",
   "mimetype": "text/x-python",
   "name": "python",
   "nbconvert_exporter": "python",
   "pygments_lexer": "ipython3",
   "version": "3.8.10"
  }
 },
 "nbformat": 4,
 "nbformat_minor": 5
}
